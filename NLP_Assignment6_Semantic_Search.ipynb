{
  "nbformat": 4,
  "nbformat_minor": 0,
  "metadata": {
    "colab": {
      "provenance": [],
      "gpuType": "T4"
    },
    "kernelspec": {
      "name": "python3",
      "display_name": "Python 3"
    },
    "language_info": {
      "name": "python"
    },
    "accelerator": "GPU",
    "widgets": {
      "application/vnd.jupyter.widget-state+json": {
        "77fcb9bec1274f978c9c2d5223d1e361": {
          "model_module": "@jupyter-widgets/controls",
          "model_name": "HBoxModel",
          "model_module_version": "1.5.0",
          "state": {
            "_dom_classes": [],
            "_model_module": "@jupyter-widgets/controls",
            "_model_module_version": "1.5.0",
            "_model_name": "HBoxModel",
            "_view_count": null,
            "_view_module": "@jupyter-widgets/controls",
            "_view_module_version": "1.5.0",
            "_view_name": "HBoxView",
            "box_style": "",
            "children": [
              "IPY_MODEL_1a3e71808ab647ad949c2494ea5225bc",
              "IPY_MODEL_cb2fa3548e4d42b69ef2d172292a611c",
              "IPY_MODEL_2e36506e653e42f3b0f8f307af3d0404"
            ],
            "layout": "IPY_MODEL_1595cd0eedc241e4a70093f20970ac53"
          }
        },
        "1a3e71808ab647ad949c2494ea5225bc": {
          "model_module": "@jupyter-widgets/controls",
          "model_name": "HTMLModel",
          "model_module_version": "1.5.0",
          "state": {
            "_dom_classes": [],
            "_model_module": "@jupyter-widgets/controls",
            "_model_module_version": "1.5.0",
            "_model_name": "HTMLModel",
            "_view_count": null,
            "_view_module": "@jupyter-widgets/controls",
            "_view_module_version": "1.5.0",
            "_view_name": "HTMLView",
            "description": "",
            "description_tooltip": null,
            "layout": "IPY_MODEL_bdecd91c1c264bd484330624b20bb87e",
            "placeholder": "​",
            "style": "IPY_MODEL_854d6acf5e1b4e57997d18e2da4fea33",
            "value": "Computing widget examples:   0%"
          }
        },
        "cb2fa3548e4d42b69ef2d172292a611c": {
          "model_module": "@jupyter-widgets/controls",
          "model_name": "FloatProgressModel",
          "model_module_version": "1.5.0",
          "state": {
            "_dom_classes": [],
            "_model_module": "@jupyter-widgets/controls",
            "_model_module_version": "1.5.0",
            "_model_name": "FloatProgressModel",
            "_view_count": null,
            "_view_module": "@jupyter-widgets/controls",
            "_view_module_version": "1.5.0",
            "_view_name": "ProgressView",
            "bar_style": "",
            "description": "",
            "description_tooltip": null,
            "layout": "IPY_MODEL_c811acadb116409ba3a93bfc8124f7f2",
            "max": 1,
            "min": 0,
            "orientation": "horizontal",
            "style": "IPY_MODEL_82fff8b7d90d4bf8af7bc195155c1eb4",
            "value": 1
          }
        },
        "2e36506e653e42f3b0f8f307af3d0404": {
          "model_module": "@jupyter-widgets/controls",
          "model_name": "HTMLModel",
          "model_module_version": "1.5.0",
          "state": {
            "_dom_classes": [],
            "_model_module": "@jupyter-widgets/controls",
            "_model_module_version": "1.5.0",
            "_model_name": "HTMLModel",
            "_view_count": null,
            "_view_module": "@jupyter-widgets/controls",
            "_view_module_version": "1.5.0",
            "_view_name": "HTMLView",
            "description": "",
            "description_tooltip": null,
            "layout": "IPY_MODEL_e6a191ed8394421c871428efac78427e",
            "placeholder": "​",
            "style": "IPY_MODEL_7222fb61d95b462ea68139dbf7975222",
            "value": " 0/1 [00:00&lt;?, ?example/s]"
          }
        },
        "1595cd0eedc241e4a70093f20970ac53": {
          "model_module": "@jupyter-widgets/base",
          "model_name": "LayoutModel",
          "model_module_version": "1.2.0",
          "state": {
            "_model_module": "@jupyter-widgets/base",
            "_model_module_version": "1.2.0",
            "_model_name": "LayoutModel",
            "_view_count": null,
            "_view_module": "@jupyter-widgets/base",
            "_view_module_version": "1.2.0",
            "_view_name": "LayoutView",
            "align_content": null,
            "align_items": null,
            "align_self": null,
            "border": null,
            "bottom": null,
            "display": null,
            "flex": null,
            "flex_flow": null,
            "grid_area": null,
            "grid_auto_columns": null,
            "grid_auto_flow": null,
            "grid_auto_rows": null,
            "grid_column": null,
            "grid_gap": null,
            "grid_row": null,
            "grid_template_areas": null,
            "grid_template_columns": null,
            "grid_template_rows": null,
            "height": null,
            "justify_content": null,
            "justify_items": null,
            "left": null,
            "margin": null,
            "max_height": null,
            "max_width": null,
            "min_height": null,
            "min_width": null,
            "object_fit": null,
            "object_position": null,
            "order": null,
            "overflow": null,
            "overflow_x": null,
            "overflow_y": null,
            "padding": null,
            "right": null,
            "top": null,
            "visibility": "hidden",
            "width": null
          }
        },
        "bdecd91c1c264bd484330624b20bb87e": {
          "model_module": "@jupyter-widgets/base",
          "model_name": "LayoutModel",
          "model_module_version": "1.2.0",
          "state": {
            "_model_module": "@jupyter-widgets/base",
            "_model_module_version": "1.2.0",
            "_model_name": "LayoutModel",
            "_view_count": null,
            "_view_module": "@jupyter-widgets/base",
            "_view_module_version": "1.2.0",
            "_view_name": "LayoutView",
            "align_content": null,
            "align_items": null,
            "align_self": null,
            "border": null,
            "bottom": null,
            "display": null,
            "flex": null,
            "flex_flow": null,
            "grid_area": null,
            "grid_auto_columns": null,
            "grid_auto_flow": null,
            "grid_auto_rows": null,
            "grid_column": null,
            "grid_gap": null,
            "grid_row": null,
            "grid_template_areas": null,
            "grid_template_columns": null,
            "grid_template_rows": null,
            "height": null,
            "justify_content": null,
            "justify_items": null,
            "left": null,
            "margin": null,
            "max_height": null,
            "max_width": null,
            "min_height": null,
            "min_width": null,
            "object_fit": null,
            "object_position": null,
            "order": null,
            "overflow": null,
            "overflow_x": null,
            "overflow_y": null,
            "padding": null,
            "right": null,
            "top": null,
            "visibility": null,
            "width": null
          }
        },
        "854d6acf5e1b4e57997d18e2da4fea33": {
          "model_module": "@jupyter-widgets/controls",
          "model_name": "DescriptionStyleModel",
          "model_module_version": "1.5.0",
          "state": {
            "_model_module": "@jupyter-widgets/controls",
            "_model_module_version": "1.5.0",
            "_model_name": "DescriptionStyleModel",
            "_view_count": null,
            "_view_module": "@jupyter-widgets/base",
            "_view_module_version": "1.2.0",
            "_view_name": "StyleView",
            "description_width": ""
          }
        },
        "c811acadb116409ba3a93bfc8124f7f2": {
          "model_module": "@jupyter-widgets/base",
          "model_name": "LayoutModel",
          "model_module_version": "1.2.0",
          "state": {
            "_model_module": "@jupyter-widgets/base",
            "_model_module_version": "1.2.0",
            "_model_name": "LayoutModel",
            "_view_count": null,
            "_view_module": "@jupyter-widgets/base",
            "_view_module_version": "1.2.0",
            "_view_name": "LayoutView",
            "align_content": null,
            "align_items": null,
            "align_self": null,
            "border": null,
            "bottom": null,
            "display": null,
            "flex": null,
            "flex_flow": null,
            "grid_area": null,
            "grid_auto_columns": null,
            "grid_auto_flow": null,
            "grid_auto_rows": null,
            "grid_column": null,
            "grid_gap": null,
            "grid_row": null,
            "grid_template_areas": null,
            "grid_template_columns": null,
            "grid_template_rows": null,
            "height": null,
            "justify_content": null,
            "justify_items": null,
            "left": null,
            "margin": null,
            "max_height": null,
            "max_width": null,
            "min_height": null,
            "min_width": null,
            "object_fit": null,
            "object_position": null,
            "order": null,
            "overflow": null,
            "overflow_x": null,
            "overflow_y": null,
            "padding": null,
            "right": null,
            "top": null,
            "visibility": null,
            "width": null
          }
        },
        "82fff8b7d90d4bf8af7bc195155c1eb4": {
          "model_module": "@jupyter-widgets/controls",
          "model_name": "ProgressStyleModel",
          "model_module_version": "1.5.0",
          "state": {
            "_model_module": "@jupyter-widgets/controls",
            "_model_module_version": "1.5.0",
            "_model_name": "ProgressStyleModel",
            "_view_count": null,
            "_view_module": "@jupyter-widgets/base",
            "_view_module_version": "1.2.0",
            "_view_name": "StyleView",
            "bar_color": null,
            "description_width": ""
          }
        },
        "e6a191ed8394421c871428efac78427e": {
          "model_module": "@jupyter-widgets/base",
          "model_name": "LayoutModel",
          "model_module_version": "1.2.0",
          "state": {
            "_model_module": "@jupyter-widgets/base",
            "_model_module_version": "1.2.0",
            "_model_name": "LayoutModel",
            "_view_count": null,
            "_view_module": "@jupyter-widgets/base",
            "_view_module_version": "1.2.0",
            "_view_name": "LayoutView",
            "align_content": null,
            "align_items": null,
            "align_self": null,
            "border": null,
            "bottom": null,
            "display": null,
            "flex": null,
            "flex_flow": null,
            "grid_area": null,
            "grid_auto_columns": null,
            "grid_auto_flow": null,
            "grid_auto_rows": null,
            "grid_column": null,
            "grid_gap": null,
            "grid_row": null,
            "grid_template_areas": null,
            "grid_template_columns": null,
            "grid_template_rows": null,
            "height": null,
            "justify_content": null,
            "justify_items": null,
            "left": null,
            "margin": null,
            "max_height": null,
            "max_width": null,
            "min_height": null,
            "min_width": null,
            "object_fit": null,
            "object_position": null,
            "order": null,
            "overflow": null,
            "overflow_x": null,
            "overflow_y": null,
            "padding": null,
            "right": null,
            "top": null,
            "visibility": null,
            "width": null
          }
        },
        "7222fb61d95b462ea68139dbf7975222": {
          "model_module": "@jupyter-widgets/controls",
          "model_name": "DescriptionStyleModel",
          "model_module_version": "1.5.0",
          "state": {
            "_model_module": "@jupyter-widgets/controls",
            "_model_module_version": "1.5.0",
            "_model_name": "DescriptionStyleModel",
            "_view_count": null,
            "_view_module": "@jupyter-widgets/base",
            "_view_module_version": "1.2.0",
            "_view_name": "StyleView",
            "description_width": ""
          }
        }
      }
    }
  },
  "cells": [
    {
      "cell_type": "code",
      "execution_count": 1,
      "metadata": {
        "id": "rkJhvGrU9RJd"
      },
      "outputs": [],
      "source": [
        "# 0) Install libraries\n",
        "!pip install -q sentence-transformers datasets transformers scikit-learn"
      ]
    },
    {
      "cell_type": "code",
      "source": [
        "# 1) Imports\n",
        "import os, zipfile, math\n",
        "import pandas as pd\n",
        "import numpy as np\n",
        "from tqdm.auto import tqdm\n",
        "from sklearn import model_selection\n",
        "from sklearn.metrics import f1_score, precision_recall_fscore_support\n",
        "import torch\n",
        "\n",
        "from sentence_transformers import SentenceTransformer, InputExample, util, losses\n",
        "from sentence_transformers.cross_encoder import CrossEncoder\n",
        "from torch.utils.data import DataLoader"
      ],
      "metadata": {
        "id": "fLisSbh7_cQw"
      },
      "execution_count": 2,
      "outputs": []
    },
    {
      "cell_type": "code",
      "source": [
        "# 2) Settings\n",
        "RANDOM_STATE = 42\n",
        "SAMPLE = False\n",
        "SAMPLE_N = 20000\n",
        "BENCHMARK_MODEL = \"all-MiniLM-L6-v2\"\n",
        "CROSS_ENCODER_MODEL = \"cross-encoder/ms-marco-MiniLM-L-6-v2\"\n",
        "EPOCHS = 1\n",
        "BATCH_SIZE = 32\n",
        "CROSS_BATCH = 16\n",
        "MAX_TRAIN_SAMPLES = None\n",
        "\n",
        "device = \"cuda\" if torch.cuda.is_available() else \"cpu\"\n",
        "print(\"Device:\", device)"
      ],
      "metadata": {
        "colab": {
          "base_uri": "https://localhost:8080/"
        },
        "id": "I-apXGJf_hGe",
        "outputId": "7252b2f3-fd0e-4c1d-8230-b28164834b00"
      },
      "execution_count": 3,
      "outputs": [
        {
          "output_type": "stream",
          "name": "stdout",
          "text": [
            "Device: cuda\n"
          ]
        }
      ]
    },
    {
      "cell_type": "code",
      "source": [
        "# 3) Load dataset (train.csv.zip and test.csv.zip uploaded by you)\n",
        "def load_from_zip(zip_path, filename):\n",
        "    with zipfile.ZipFile(zip_path, 'r') as z:\n",
        "        z.extractall(\"./data_extracted\")\n",
        "    return pd.read_csv(f\"./data_extracted/{filename}\")\n",
        "\n",
        "print(\"Loading dataset... (unzipping and reading)\")\n",
        "train_df = load_from_zip(\"train.csv.zip\", \"train.csv\")\n",
        "test_public_df = load_from_zip(\"test.csv.zip\", \"test.csv\")\n",
        "print(\"Train shape:\", train_df.shape, \"| Test shape:\", test_public_df.shape)"
      ],
      "metadata": {
        "colab": {
          "base_uri": "https://localhost:8080/"
        },
        "id": "cR6kT_V7_q3a",
        "outputId": "fdc17dc9-ad51-4922-a450-e02be863669f"
      },
      "execution_count": 4,
      "outputs": [
        {
          "output_type": "stream",
          "name": "stdout",
          "text": [
            "Loading dataset... (unzipping and reading)\n",
            "Train shape: (404290, 6) | Test shape: (2345796, 3)\n"
          ]
        }
      ]
    },
    {
      "cell_type": "code",
      "source": [
        "# 4) Clean and keep relevant columns\n",
        "train_df = train_df.dropna(subset=[\"question1\", \"question2\"]).reset_index(drop=True)\n",
        "train_df = train_df.rename(columns={\"is_duplicate\":\"label\"})\n",
        "train_df = train_df[[\"question1\",\"question2\",\"label\"]].copy()\n",
        "train_df[\"label\"] = train_df[\"label\"].astype(int)\n",
        "\n",
        "# Optional sampling\n",
        "if SAMPLE:\n",
        "    train_df = train_df.sample(n=min(SAMPLE_N, len(train_df)), random_state=RANDOM_STATE).reset_index(drop=True)\n",
        "print(\"Using dataset size:\", len(train_df))"
      ],
      "metadata": {
        "colab": {
          "base_uri": "https://localhost:8080/"
        },
        "id": "PLdszEMC_zI8",
        "outputId": "07fb2d11-666b-4581-92e6-b2b4336d9620"
      },
      "execution_count": 5,
      "outputs": [
        {
          "output_type": "stream",
          "name": "stdout",
          "text": [
            "Using dataset size: 404287\n"
          ]
        }
      ]
    },
    {
      "cell_type": "code",
      "source": [
        "# 5) Train/Val/Test split\n",
        "test_size = 0.10\n",
        "val_size = 0.05\n",
        "train_val_df, test_df = model_selection.train_test_split(\n",
        "    train_df, test_size=test_size, stratify=train_df[\"label\"], random_state=RANDOM_STATE\n",
        ")\n",
        "val_relative = val_size / (1 - test_size)\n",
        "train_df, val_df = model_selection.train_test_split(\n",
        "    train_val_df, test_size=val_relative, stratify=train_val_df[\"label\"], random_state=RANDOM_STATE\n",
        ")\n",
        "\n",
        "print(f\"Train: {len(train_df)} | Val: {len(val_df)} | Test: {len(test_df)}\")"
      ],
      "metadata": {
        "colab": {
          "base_uri": "https://localhost:8080/"
        },
        "id": "A4DtFJ_GFK50",
        "outputId": "2f141c5d-fa70-48a7-a200-4b8c5a08437b"
      },
      "execution_count": 6,
      "outputs": [
        {
          "output_type": "stream",
          "name": "stdout",
          "text": [
            "Train: 343643 | Val: 20215 | Test: 40429\n"
          ]
        }
      ]
    },
    {
      "cell_type": "code",
      "source": [
        "# ================================================================\n",
        "# Helper functions\n",
        "# ================================================================\n",
        "\n",
        "def maybe_subsample(df, max_samples):\n",
        "    if max_samples is None:\n",
        "        return df\n",
        "    return df.sample(n=min(max_samples, len(df)), random_state=RANDOM_STATE).reset_index(drop=True)\n",
        "\n",
        "def tune_threshold_and_eval_on_test(model, val_df, test_df, batch_size=64):\n",
        "    q1_val, q2_val = val_df[\"question1\"].tolist(), val_df[\"question2\"].tolist()\n",
        "    y_val = val_df[\"label\"].tolist()\n",
        "    q1_test, q2_test = test_df[\"question1\"].tolist(), test_df[\"question2\"].tolist()\n",
        "    y_test = test_df[\"label\"].tolist()\n",
        "\n",
        "    emb_q1_val = model.encode(q1_val, convert_to_tensor=True, batch_size=batch_size)\n",
        "    emb_q2_val = model.encode(q2_val, convert_to_tensor=True, batch_size=batch_size)\n",
        "    emb_q1_test = model.encode(q1_test, convert_to_tensor=True, batch_size=batch_size)\n",
        "    emb_q2_test = model.encode(q2_test, convert_to_tensor=True, batch_size=batch_size)\n",
        "\n",
        "    cos_val = util.cos_sim(emb_q1_val, emb_q2_val).diagonal().cpu().numpy()\n",
        "    cos_test = util.cos_sim(emb_q1_test, emb_q2_test).diagonal().cpu().numpy()\n",
        "\n",
        "    # Tune threshold\n",
        "    best_thr, best_f1 = 0.5, -1\n",
        "    for thr in np.linspace(0, 1, 101):\n",
        "        preds = (cos_val >= thr).astype(int)\n",
        "        f1 = f1_score(y_val, preds)\n",
        "        if f1 > best_f1:\n",
        "            best_f1, best_thr = f1, thr\n",
        "\n",
        "    test_preds = (cos_test >= best_thr).astype(int)\n",
        "    precision, recall, f1, _ = precision_recall_fscore_support(y_test, test_preds, average='binary', zero_division=0)\n",
        "    return {\"best_val_f1\": best_f1, \"best_threshold\": best_thr,\n",
        "            \"test_precision\": precision, \"test_recall\": recall, \"test_f1\": f1}\n",
        "\n",
        "def eval_cross_encoder(ce_model, val_df, test_df):\n",
        "    val_pairs = list(zip(val_df[\"question1\"], val_df[\"question2\"]))\n",
        "    test_pairs = list(zip(test_df[\"question1\"], test_df[\"question2\"]))\n",
        "    y_val, y_test = val_df[\"label\"].tolist(), test_df[\"label\"].tolist()\n",
        "\n",
        "    val_scores = ce_model.predict(val_pairs)\n",
        "    test_scores = ce_model.predict(test_pairs)\n",
        "\n",
        "    best_thr, best_f1 = 0.5, -1\n",
        "    for thr in np.linspace(min(val_scores), max(val_scores), 101):\n",
        "        preds = (np.array(val_scores) >= thr).astype(int)\n",
        "        f1 = f1_score(y_val, preds)\n",
        "        if f1 > best_f1:\n",
        "            best_f1, best_thr = f1, thr\n",
        "\n",
        "    test_preds = (np.array(test_scores) >= best_thr).astype(int)\n",
        "    precision, recall, f1, _ = precision_recall_fscore_support(y_test, test_preds, average='binary', zero_division=0)\n",
        "    return {\"best_val_f1\": best_f1, \"best_threshold\": best_thr,\n",
        "            \"test_precision\": precision, \"test_recall\": recall, \"test_f1\": f1}"
      ],
      "metadata": {
        "id": "rbszCx3jFPK6"
      },
      "execution_count": 7,
      "outputs": []
    },
    {
      "cell_type": "code",
      "source": [
        "# Training helper for bi-encoders\n",
        "def train_biencoder(train_df, model_name, loss_name=\"CosineSimilarityLoss\", epochs=1, batch_size=32, max_train_samples=None):\n",
        "    train_use = maybe_subsample(train_df, max_train_samples)\n",
        "    train_examples = []\n",
        "    for _, r in train_use.iterrows():\n",
        "        if loss_name in [\"ContrastiveLoss\", \"CosineSimilarityLoss\"]:\n",
        "            train_examples.append(InputExample(texts=[str(r[\"question1\"]), str(r[\"question2\"])], label=float(r[\"label\"])))\n",
        "        else:\n",
        "            train_examples.append(InputExample(texts=[str(r[\"question1\"]), str(r[\"question2\"])]))\n",
        "\n",
        "    model = SentenceTransformer(model_name, device=device)\n",
        "    train_dataloader = DataLoader(train_examples, shuffle=True, batch_size=batch_size)\n",
        "\n",
        "    if loss_name == \"CosineSimilarityLoss\":\n",
        "        train_loss = losses.CosineSimilarityLoss(model)\n",
        "    elif loss_name == \"ContrastiveLoss\":\n",
        "        train_loss = losses.ContrastiveLoss(model)\n",
        "    else:\n",
        "        train_loss = losses.MultipleNegativesRankingLoss(model)\n",
        "\n",
        "    model.fit(train_objectives=[(train_dataloader, train_loss)], epochs=epochs, show_progress_bar=True)\n",
        "    return model"
      ],
      "metadata": {
        "id": "-9NCeHJYFW43"
      },
      "execution_count": 8,
      "outputs": []
    },
    {
      "cell_type": "code",
      "source": [
        "# ================================================================\n",
        "# Experiments\n",
        "# ================================================================\n",
        "from sentence_transformers import SentenceTransformer, InputExample, losses, CrossEncoder\n",
        "from torch.utils.data import DataLoader\n",
        "\n",
        "results = []\n",
        "\n",
        "# -------------------------\n",
        "# Experiment 1: Pretrained Bi-encoder\n",
        "# -------------------------\n",
        "print(\"\\n=== Experiment 1: Pretrained Bi-encoder ===\")\n",
        "bench_model = SentenceTransformer(BENCHMARK_MODEL, device=device)\n",
        "bench_res = tune_threshold_and_eval_on_test(bench_model, val_df, test_df)\n",
        "bench_res.update({\"experiment\": \"benchmark\", \"model\": BENCHMARK_MODEL})\n",
        "results.append(bench_res)"
      ],
      "metadata": {
        "colab": {
          "base_uri": "https://localhost:8080/"
        },
        "id": "Bu7Sm8JDFauJ",
        "outputId": "8af4cbe4-12b1-4ab4-cfea-6e8bd92c567e"
      },
      "execution_count": 11,
      "outputs": [
        {
          "output_type": "stream",
          "name": "stdout",
          "text": [
            "\n",
            "=== Experiment 1: Pretrained Bi-encoder ===\n"
          ]
        }
      ]
    },
    {
      "cell_type": "code",
      "source": [
        "# -------------------------\n",
        "# Experiment 2: Bi-encoder CosineLoss\n",
        "# -------------------------\n",
        "print(\"\\n=== Experiment 2: Bi-encoder CosineLoss ===\")\n",
        "\n",
        "# prepare training data\n",
        "train_samples = [\n",
        "    InputExample(texts=[q1, q2], label=float(label))\n",
        "    for q1, q2, label in zip(train_df[\"question1\"], train_df[\"question2\"], train_df[\"label\"])\n",
        "]\n",
        "\n",
        "train_dataloader = DataLoader(train_samples, shuffle=True, batch_size=BATCH_SIZE)\n",
        "\n",
        "cos_model = SentenceTransformer(BENCHMARK_MODEL, device=device)\n",
        "train_loss = losses.CosineSimilarityLoss(cos_model)\n",
        "\n",
        "cos_model.fit(\n",
        "    train_objectives=[(train_dataloader, train_loss)],\n",
        "    epochs=EPOCHS,\n",
        "    warmup_steps=1000,\n",
        "    show_progress_bar=True,\n",
        ")\n",
        "\n",
        "cos_res = tune_threshold_and_eval_on_test(cos_model, val_df, test_df)\n",
        "cos_res.update({\"experiment\": \"bi_cosine\", \"model\": BENCHMARK_MODEL})\n",
        "results.append(cos_res)"
      ],
      "metadata": {
        "colab": {
          "base_uri": "https://localhost:8080/",
          "height": 770,
          "referenced_widgets": [
            "77fcb9bec1274f978c9c2d5223d1e361",
            "1a3e71808ab647ad949c2494ea5225bc",
            "cb2fa3548e4d42b69ef2d172292a611c",
            "2e36506e653e42f3b0f8f307af3d0404",
            "1595cd0eedc241e4a70093f20970ac53",
            "bdecd91c1c264bd484330624b20bb87e",
            "854d6acf5e1b4e57997d18e2da4fea33",
            "c811acadb116409ba3a93bfc8124f7f2",
            "82fff8b7d90d4bf8af7bc195155c1eb4",
            "e6a191ed8394421c871428efac78427e",
            "7222fb61d95b462ea68139dbf7975222"
          ]
        },
        "id": "Zhvn34K6s3P9",
        "outputId": "448b4f64-da02-4c36-a4c5-1340c8ab0d69"
      },
      "execution_count": 12,
      "outputs": [
        {
          "output_type": "stream",
          "name": "stdout",
          "text": [
            "\n",
            "=== Experiment 2: Bi-encoder CosineLoss ===\n"
          ]
        },
        {
          "output_type": "display_data",
          "data": {
            "text/plain": [
              "Computing widget examples:   0%|          | 0/1 [00:00<?, ?example/s]"
            ],
            "application/vnd.jupyter.widget-view+json": {
              "version_major": 2,
              "version_minor": 0,
              "model_id": "77fcb9bec1274f978c9c2d5223d1e361"
            }
          },
          "metadata": {}
        },
        {
          "output_type": "display_data",
          "data": {
            "text/plain": [
              "<IPython.core.display.HTML object>"
            ],
            "text/html": [
              "\n",
              "    <div>\n",
              "      \n",
              "      <progress value='10739' max='10739' style='width:300px; height:20px; vertical-align: middle;'></progress>\n",
              "      [10739/10739 13:49, Epoch 1/1]\n",
              "    </div>\n",
              "    <table border=\"1\" class=\"dataframe\">\n",
              "  <thead>\n",
              " <tr style=\"text-align: left;\">\n",
              "      <th>Step</th>\n",
              "      <th>Training Loss</th>\n",
              "    </tr>\n",
              "  </thead>\n",
              "  <tbody>\n",
              "    <tr>\n",
              "      <td>500</td>\n",
              "      <td>0.190000</td>\n",
              "    </tr>\n",
              "    <tr>\n",
              "      <td>1000</td>\n",
              "      <td>0.146800</td>\n",
              "    </tr>\n",
              "    <tr>\n",
              "      <td>1500</td>\n",
              "      <td>0.138000</td>\n",
              "    </tr>\n",
              "    <tr>\n",
              "      <td>2000</td>\n",
              "      <td>0.129500</td>\n",
              "    </tr>\n",
              "    <tr>\n",
              "      <td>2500</td>\n",
              "      <td>0.125900</td>\n",
              "    </tr>\n",
              "    <tr>\n",
              "      <td>3000</td>\n",
              "      <td>0.122900</td>\n",
              "    </tr>\n",
              "    <tr>\n",
              "      <td>3500</td>\n",
              "      <td>0.122300</td>\n",
              "    </tr>\n",
              "    <tr>\n",
              "      <td>4000</td>\n",
              "      <td>0.122700</td>\n",
              "    </tr>\n",
              "    <tr>\n",
              "      <td>4500</td>\n",
              "      <td>0.120600</td>\n",
              "    </tr>\n",
              "    <tr>\n",
              "      <td>5000</td>\n",
              "      <td>0.120000</td>\n",
              "    </tr>\n",
              "    <tr>\n",
              "      <td>5500</td>\n",
              "      <td>0.115600</td>\n",
              "    </tr>\n",
              "    <tr>\n",
              "      <td>6000</td>\n",
              "      <td>0.117800</td>\n",
              "    </tr>\n",
              "    <tr>\n",
              "      <td>6500</td>\n",
              "      <td>0.116600</td>\n",
              "    </tr>\n",
              "    <tr>\n",
              "      <td>7000</td>\n",
              "      <td>0.115200</td>\n",
              "    </tr>\n",
              "    <tr>\n",
              "      <td>7500</td>\n",
              "      <td>0.113500</td>\n",
              "    </tr>\n",
              "    <tr>\n",
              "      <td>8000</td>\n",
              "      <td>0.114500</td>\n",
              "    </tr>\n",
              "    <tr>\n",
              "      <td>8500</td>\n",
              "      <td>0.114400</td>\n",
              "    </tr>\n",
              "    <tr>\n",
              "      <td>9000</td>\n",
              "      <td>0.115400</td>\n",
              "    </tr>\n",
              "    <tr>\n",
              "      <td>9500</td>\n",
              "      <td>0.112600</td>\n",
              "    </tr>\n",
              "    <tr>\n",
              "      <td>10000</td>\n",
              "      <td>0.111800</td>\n",
              "    </tr>\n",
              "    <tr>\n",
              "      <td>10500</td>\n",
              "      <td>0.112200</td>\n",
              "    </tr>\n",
              "  </tbody>\n",
              "</table><p>"
            ]
          },
          "metadata": {}
        }
      ]
    },
    {
      "cell_type": "code",
      "source": [
        "# -------------------------\n",
        "# Experiment 3: Cross-encoder\n",
        "# -------------------------\n",
        "print(\"\\n=== Experiment 3: Cross-encoder ===\")\n",
        "\n",
        "from sentence_transformers import InputExample\n",
        "from torch.utils.data import DataLoader\n",
        "\n",
        "# prepare training samples\n",
        "train_samples = [\n",
        "    InputExample(texts=[q1, q2], label=float(label))\n",
        "    for q1, q2, label in zip(train_df[\"question1\"], train_df[\"question2\"], train_df[\"label\"])\n",
        "]\n",
        "\n",
        "# dataloader with batch size\n",
        "train_dataloader = DataLoader(train_samples, shuffle=True, batch_size=CROSS_BATCH)\n",
        "\n",
        "# init cross-encoder\n",
        "ce_model = CrossEncoder(CROSS_ENCODER_MODEL, num_labels=1, device=device)\n",
        "\n",
        "# fit model\n",
        "ce_model.fit(\n",
        "    train_dataloader=train_dataloader,\n",
        "    epochs=EPOCHS,\n",
        "    warmup_steps=1000,\n",
        "    show_progress_bar=True,\n",
        ")\n",
        "\n",
        "# evaluate\n",
        "ce_res = eval_cross_encoder(ce_model, val_df, test_df)\n",
        "ce_res.update({\"experiment\": \"cross_encoder\", \"model\": CROSS_ENCODER_MODEL})\n",
        "results.append(ce_res)"
      ],
      "metadata": {
        "colab": {
          "base_uri": "https://localhost:8080/",
          "height": 1000
        },
        "id": "U-My0hr3sria",
        "outputId": "a90f0cc3-7264-4f30-b0dd-dbade2fe0619"
      },
      "execution_count": 13,
      "outputs": [
        {
          "output_type": "stream",
          "name": "stdout",
          "text": [
            "\n",
            "=== Experiment 3: Cross-encoder ===\n"
          ]
        },
        {
          "output_type": "display_data",
          "data": {
            "text/plain": [
              "<IPython.core.display.HTML object>"
            ],
            "text/html": [
              "\n",
              "    <div>\n",
              "      \n",
              "      <progress value='21478' max='21478' style='width:300px; height:20px; vertical-align: middle;'></progress>\n",
              "      [21478/21478 13:21, Epoch 1/1]\n",
              "    </div>\n",
              "    <table border=\"1\" class=\"dataframe\">\n",
              "  <thead>\n",
              " <tr style=\"text-align: left;\">\n",
              "      <th>Step</th>\n",
              "      <th>Training Loss</th>\n",
              "    </tr>\n",
              "  </thead>\n",
              "  <tbody>\n",
              "    <tr>\n",
              "      <td>500</td>\n",
              "      <td>0.632200</td>\n",
              "    </tr>\n",
              "    <tr>\n",
              "      <td>1000</td>\n",
              "      <td>0.425000</td>\n",
              "    </tr>\n",
              "    <tr>\n",
              "      <td>1500</td>\n",
              "      <td>0.395400</td>\n",
              "    </tr>\n",
              "    <tr>\n",
              "      <td>2000</td>\n",
              "      <td>0.378900</td>\n",
              "    </tr>\n",
              "    <tr>\n",
              "      <td>2500</td>\n",
              "      <td>0.367700</td>\n",
              "    </tr>\n",
              "    <tr>\n",
              "      <td>3000</td>\n",
              "      <td>0.359900</td>\n",
              "    </tr>\n",
              "    <tr>\n",
              "      <td>3500</td>\n",
              "      <td>0.348700</td>\n",
              "    </tr>\n",
              "    <tr>\n",
              "      <td>4000</td>\n",
              "      <td>0.334000</td>\n",
              "    </tr>\n",
              "    <tr>\n",
              "      <td>4500</td>\n",
              "      <td>0.328800</td>\n",
              "    </tr>\n",
              "    <tr>\n",
              "      <td>5000</td>\n",
              "      <td>0.334500</td>\n",
              "    </tr>\n",
              "    <tr>\n",
              "      <td>5500</td>\n",
              "      <td>0.321500</td>\n",
              "    </tr>\n",
              "    <tr>\n",
              "      <td>6000</td>\n",
              "      <td>0.318100</td>\n",
              "    </tr>\n",
              "    <tr>\n",
              "      <td>6500</td>\n",
              "      <td>0.325500</td>\n",
              "    </tr>\n",
              "    <tr>\n",
              "      <td>7000</td>\n",
              "      <td>0.316200</td>\n",
              "    </tr>\n",
              "    <tr>\n",
              "      <td>7500</td>\n",
              "      <td>0.308000</td>\n",
              "    </tr>\n",
              "    <tr>\n",
              "      <td>8000</td>\n",
              "      <td>0.325800</td>\n",
              "    </tr>\n",
              "    <tr>\n",
              "      <td>8500</td>\n",
              "      <td>0.313200</td>\n",
              "    </tr>\n",
              "    <tr>\n",
              "      <td>9000</td>\n",
              "      <td>0.307000</td>\n",
              "    </tr>\n",
              "    <tr>\n",
              "      <td>9500</td>\n",
              "      <td>0.320200</td>\n",
              "    </tr>\n",
              "    <tr>\n",
              "      <td>10000</td>\n",
              "      <td>0.304600</td>\n",
              "    </tr>\n",
              "    <tr>\n",
              "      <td>10500</td>\n",
              "      <td>0.303100</td>\n",
              "    </tr>\n",
              "    <tr>\n",
              "      <td>11000</td>\n",
              "      <td>0.295900</td>\n",
              "    </tr>\n",
              "    <tr>\n",
              "      <td>11500</td>\n",
              "      <td>0.311900</td>\n",
              "    </tr>\n",
              "    <tr>\n",
              "      <td>12000</td>\n",
              "      <td>0.309000</td>\n",
              "    </tr>\n",
              "    <tr>\n",
              "      <td>12500</td>\n",
              "      <td>0.291100</td>\n",
              "    </tr>\n",
              "    <tr>\n",
              "      <td>13000</td>\n",
              "      <td>0.302000</td>\n",
              "    </tr>\n",
              "    <tr>\n",
              "      <td>13500</td>\n",
              "      <td>0.301600</td>\n",
              "    </tr>\n",
              "    <tr>\n",
              "      <td>14000</td>\n",
              "      <td>0.296800</td>\n",
              "    </tr>\n",
              "    <tr>\n",
              "      <td>14500</td>\n",
              "      <td>0.293100</td>\n",
              "    </tr>\n",
              "    <tr>\n",
              "      <td>15000</td>\n",
              "      <td>0.277600</td>\n",
              "    </tr>\n",
              "    <tr>\n",
              "      <td>15500</td>\n",
              "      <td>0.299600</td>\n",
              "    </tr>\n",
              "    <tr>\n",
              "      <td>16000</td>\n",
              "      <td>0.286400</td>\n",
              "    </tr>\n",
              "    <tr>\n",
              "      <td>16500</td>\n",
              "      <td>0.283700</td>\n",
              "    </tr>\n",
              "    <tr>\n",
              "      <td>17000</td>\n",
              "      <td>0.290600</td>\n",
              "    </tr>\n",
              "    <tr>\n",
              "      <td>17500</td>\n",
              "      <td>0.305900</td>\n",
              "    </tr>\n",
              "    <tr>\n",
              "      <td>18000</td>\n",
              "      <td>0.289600</td>\n",
              "    </tr>\n",
              "    <tr>\n",
              "      <td>18500</td>\n",
              "      <td>0.282500</td>\n",
              "    </tr>\n",
              "    <tr>\n",
              "      <td>19000</td>\n",
              "      <td>0.284300</td>\n",
              "    </tr>\n",
              "    <tr>\n",
              "      <td>19500</td>\n",
              "      <td>0.284200</td>\n",
              "    </tr>\n",
              "    <tr>\n",
              "      <td>20000</td>\n",
              "      <td>0.286100</td>\n",
              "    </tr>\n",
              "    <tr>\n",
              "      <td>20500</td>\n",
              "      <td>0.271300</td>\n",
              "    </tr>\n",
              "    <tr>\n",
              "      <td>21000</td>\n",
              "      <td>0.292400</td>\n",
              "    </tr>\n",
              "  </tbody>\n",
              "</table><p>"
            ]
          },
          "metadata": {}
        }
      ]
    },
    {
      "cell_type": "code",
      "source": [
        "# ================================================================\n",
        "# Final Results\n",
        "# ================================================================\n",
        "print(\"\\n=== All Experiment Results ===\")\n",
        "for r in results:\n",
        "    print(r)"
      ],
      "metadata": {
        "colab": {
          "base_uri": "https://localhost:8080/"
        },
        "id": "co9usKc0s8yJ",
        "outputId": "bca5aba8-f3db-4a13-a35a-7f4f2e350182"
      },
      "execution_count": 14,
      "outputs": [
        {
          "output_type": "stream",
          "name": "stdout",
          "text": [
            "\n",
            "=== All Experiment Results ===\n",
            "{'best_val_f1': 0.7403302420266908, 'best_threshold': np.float64(0.75), 'test_precision': 0.6351371168793079, 'test_recall': 0.8704944392335522, 'test_f1': 0.7344204844134189, 'experiment': 'benchmark', 'model': 'all-MiniLM-L6-v2'}\n",
            "{'best_val_f1': 0.8174355711104041, 'best_threshold': np.float64(0.6), 'test_precision': 0.7780802032299038, 'test_recall': 0.8618518022243066, 'test_f1': 0.8178263771893576, 'experiment': 'bi_cosine', 'model': 'all-MiniLM-L6-v2'}\n",
            "{'best_val_f1': 0.8462950072770993, 'best_threshold': np.float32(-0.5954857), 'test_precision': 0.802461759082218, 'test_recall': 0.8997722095671982, 'test_f1': 0.8483355441854589, 'experiment': 'cross_encoder', 'model': 'cross-encoder/ms-marco-MiniLM-L-6-v2'}\n"
          ]
        }
      ]
    },
    {
      "cell_type": "code",
      "source": [
        "# Save results\n",
        "results_df = pd.DataFrame(results)\n",
        "results_df.to_csv(\"qqp_results.csv\", index=False)\n",
        "print(\"\\nFinal Results:\\n\", results_df)"
      ],
      "metadata": {
        "colab": {
          "base_uri": "https://localhost:8080/"
        },
        "id": "9DFLcLVBFfo0",
        "outputId": "b1c3978d-0838-4ed5-e6c9-fc0c36e266ba"
      },
      "execution_count": 15,
      "outputs": [
        {
          "output_type": "stream",
          "name": "stdout",
          "text": [
            "\n",
            "Final Results:\n",
            "    best_val_f1  best_threshold  test_precision  test_recall   test_f1  \\\n",
            "0     0.740330        0.750000        0.635137     0.870494  0.734420   \n",
            "1     0.817436        0.600000        0.778080     0.861852  0.817826   \n",
            "2     0.846295       -0.595486        0.802462     0.899772  0.848336   \n",
            "\n",
            "      experiment                                 model  \n",
            "0      benchmark                      all-MiniLM-L6-v2  \n",
            "1      bi_cosine                      all-MiniLM-L6-v2  \n",
            "2  cross_encoder  cross-encoder/ms-marco-MiniLM-L-6-v2  \n"
          ]
        }
      ]
    },
    {
      "cell_type": "code",
      "source": [],
      "metadata": {
        "id": "luVhMysDKLpB"
      },
      "execution_count": null,
      "outputs": []
    }
  ]
}